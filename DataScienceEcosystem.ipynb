{
 "cells": [
  {
   "cell_type": "markdown",
   "id": "2ae2c7b6-769d-42c9-afc6-af23a31e9a1b",
   "metadata": {},
   "source": [
    "# Data Science Tools and Ecosystem"
   ]
  },
  {
   "cell_type": "markdown",
   "id": "b9b24ad9-049b-49e0-a3cc-740966799042",
   "metadata": {},
   "source": [
    "In this notebook, Data Science Tools and Ecosystems are summarized."
   ]
  },
  {
   "cell_type": "markdown",
   "id": "21808858-8fde-400f-8cad-8d7e1876751a",
   "metadata": {},
   "source": [
    "**Objectives:**\n",
    "- List popular languages for data science\n",
    "- List commonly used libraries for data science\n",
    "- evaluate some arithmetic expressions in python"
   ]
  },
  {
   "cell_type": "markdown",
   "id": "6be3723d-eee5-4b22-8485-3fbe2554bbfc",
   "metadata": {},
   "source": [
    "Some of the popular langues that Data Sciencetists use are:\n",
    "1. Python\n",
    "2. R\n",
    "3. C++"
   ]
  },
  {
   "cell_type": "markdown",
   "id": "af3e1e9b-4aac-4e71-a176-5b75aec31f31",
   "metadata": {},
   "source": [
    "Some of the commonly used libraries include:\n",
    "1. numpy\n",
    "2. sciikit-learn\n",
    "3. tensor flow\n",
    "4. pandas\n",
    "5. matplotlib\n"
   ]
  },
  {
   "cell_type": "markdown",
   "id": "675a2286-e956-454f-aecf-22de0e6244f4",
   "metadata": {},
   "source": [
    "\n",
    "|Data Science Tools |\n",
    "|:-----------------:|\n",
    "|Rstudio|\n",
    "|Spyder|\n",
    "|jupyter notebooks|"
   ]
  },
  {
   "cell_type": "markdown",
   "id": "424e61b7-bb9a-457e-9b60-134bde6e8c3d",
   "metadata": {},
   "source": [
    "### Below are a few examples of evaluating arithmetic expressions in Python."
   ]
  },
  {
   "cell_type": "code",
   "execution_count": 1,
   "id": "4c1eaf98-72e9-4555-8588-36c8642f920a",
   "metadata": {},
   "outputs": [
    {
     "data": {
      "text/plain": [
       "17"
      ]
     },
     "execution_count": 1,
     "metadata": {},
     "output_type": "execute_result"
    }
   ],
   "source": [
    "#This is a simple arithmetic esxpression to multiply then add integers\n",
    "(3*4) +5"
   ]
  },
  {
   "cell_type": "code",
   "execution_count": 2,
   "id": "1bc9b9a0-842e-478a-94ef-1a6f7a14ef9b",
   "metadata": {},
   "outputs": [
    {
     "data": {
      "text/plain": [
       "3.3333333333333335"
      ]
     },
     "execution_count": 2,
     "metadata": {},
     "output_type": "execute_result"
    }
   ],
   "source": [
    "#this will convert 200 minutes to hours by dividing by 60.\n",
    "200/60"
   ]
  },
  {
   "cell_type": "markdown",
   "id": "912caaba-0481-40bb-9430-7ac4b4b22c06",
   "metadata": {},
   "source": [
    "## Author\n",
    "Frank"
   ]
  },
  {
   "cell_type": "code",
   "execution_count": null,
   "id": "96e3a473-4913-4730-bbf4-94c157241418",
   "metadata": {},
   "outputs": [],
   "source": []
  }
 ],
 "metadata": {
  "kernelspec": {
   "display_name": "Python 3 (ipykernel)",
   "language": "python",
   "name": "python3"
  },
  "language_info": {
   "codemirror_mode": {
    "name": "ipython",
    "version": 3
   },
   "file_extension": ".py",
   "mimetype": "text/x-python",
   "name": "python",
   "nbconvert_exporter": "python",
   "pygments_lexer": "ipython3",
   "version": "3.10.9"
  }
 },
 "nbformat": 4,
 "nbformat_minor": 5
}
